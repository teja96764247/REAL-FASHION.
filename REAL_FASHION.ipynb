{
  "cells": [
    {
      "cell_type": "code",
      "execution_count": 1,
      "metadata": {
        "id": "zguTjNpmY0Em"
      },
      "outputs": [],
      "source": [
        "!mkdir -p ~/.kaggle\n",
        "!cp kaggle.json ~/.kaggle/\n",
        "!chmod 600 ~/.kaggle/kaggle.json"
      ]
    },
    {
      "cell_type": "code",
      "execution_count": 2,
      "metadata": {
        "colab": {
          "base_uri": "https://localhost:8080/"
        },
        "id": "pS5H89sIZHeE",
        "outputId": "fb0b83ee-a271-4e30-ec1d-48bdf3fb1142"
      },
      "outputs": [
        {
          "output_type": "stream",
          "name": "stdout",
          "text": [
            "Downloading real-fashion.zip to /content\n",
            "100% 1.79G/1.80G [01:06<00:00, 22.5MB/s]\n",
            "100% 1.80G/1.80G [01:06<00:00, 29.2MB/s]\n"
          ]
        }
      ],
      "source": [
        "!kaggle datasets download -d hammaadali/real-fashion"
      ]
    },
    {
      "cell_type": "code",
      "execution_count": 3,
      "metadata": {
        "id": "GUHQTXuCZHoi",
        "colab": {
          "base_uri": "https://localhost:8080/"
        },
        "outputId": "189ce4db-25cc-427d-fb6e-7b6118fbf00e"
      },
      "outputs": [
        {
          "output_type": "stream",
          "name": "stdout",
          "text": [
            "The dataset is extracted\n"
          ]
        }
      ],
      "source": [
        "from zipfile import ZipFile\n",
        "dataset = '/content/real-fashion.zip'\n",
        "\n",
        "with ZipFile(dataset,'r') as zip:\n",
        "  zip.extractall()\n",
        "  print('The dataset is extracted')"
      ]
    },
    {
      "cell_type": "code",
      "execution_count": 4,
      "metadata": {
        "id": "IPiqTXxLZHwT"
      },
      "outputs": [],
      "source": [
        "import numpy as np\n",
        "import pandas as pd\n",
        "import matplotlib.pyplot as plt\n",
        "import os\n",
        "import cv2\n",
        "from google.colab.patches import cv2_imshow\n",
        "from PIL import Image"
      ]
    },
    {
      "cell_type": "code",
      "source": [
        "data=[]"
      ],
      "metadata": {
        "id": "W5QmwK5kZ18T"
      },
      "execution_count": 5,
      "outputs": []
    },
    {
      "cell_type": "code",
      "source": [
        "accessories_folder=os.listdir('/content/accessories')\n",
        "print(accessories_folder)\n",
        "print(len(accessories_folder))"
      ],
      "metadata": {
        "colab": {
          "base_uri": "https://localhost:8080/"
        },
        "id": "a8p7XWN3aA5z",
        "outputId": "af971fe5-e2d6-4dc6-a12c-e8cbaa0f987d"
      },
      "execution_count": 6,
      "outputs": [
        {
          "output_type": "stream",
          "name": "stdout",
          "text": [
            "['makeup', 'jewelry', 'scarves', 'caps', 'gloves', 'belts', 'watches', 'sunglasses', 'hairaccessories', 'hats']\n",
            "10\n"
          ]
        }
      ]
    },
    {
      "cell_type": "code",
      "source": [
        "for i in range(10):\n",
        "  accessories_folder_path='/content/accessories/'+accessories_folder[i]\n",
        "  accessories_img_folder=os.listdir(accessories_folder_path)\n",
        "  l=len(accessories_img_folder)\n",
        "  for j in range(l):\n",
        "    img_path=accessories_folder_path+'/'+accessories_img_folder[j]\n",
        "    img_pillow=Image.open(img_path)\n",
        "    img_color=img_pillow.convert('RGB')\n",
        "    img_resize=img_color.resize((64,64))\n",
        "    img_arr=np.array(img_resize)\n",
        "    data.append([img_arr,accessories_folder[i]])"
      ],
      "metadata": {
        "id": "vClsx_JdaMEy"
      },
      "execution_count": 7,
      "outputs": []
    },
    {
      "cell_type": "code",
      "source": [
        "bag_folder=os.listdir('/content/bag')\n",
        "print(bag_folder)\n",
        "print(len(bag_folder))"
      ],
      "metadata": {
        "colab": {
          "base_uri": "https://localhost:8080/"
        },
        "id": "A6h48567bCdb",
        "outputId": "d732ea54-b7f0-47c1-b2b3-809eaa90948e"
      },
      "execution_count": 8,
      "outputs": [
        {
          "output_type": "stream",
          "name": "stdout",
          "text": [
            "['handbags', 'satchel', 'backpacks', 'clutch']\n",
            "4\n"
          ]
        }
      ]
    },
    {
      "cell_type": "code",
      "source": [
        "for i in range(4):\n",
        "  bag_folder_path='/content/bag/'+bag_folder[i]\n",
        "  bag_img_folder=os.listdir(bag_folder_path)\n",
        "  l=len(bag_img_folder)\n",
        "  for j in range(l):\n",
        "    img_path=bag_folder_path+'/'+bag_img_folder[j]\n",
        "    img_pillow=Image.open(img_path)\n",
        "    img_color=img_pillow.convert('RGB')\n",
        "    img_resize=img_color.resize((64,64))\n",
        "    img_arr=np.array(img_resize)\n",
        "    data.append([img_arr,bag_folder[i]])"
      ],
      "metadata": {
        "id": "HO6_BzQAbsRy"
      },
      "execution_count": 9,
      "outputs": []
    },
    {
      "cell_type": "code",
      "source": [
        "bottom_folder=os.listdir('/content/bottom')\n",
        "print(bottom_folder)\n",
        "print(len(bottom_folder))"
      ],
      "metadata": {
        "colab": {
          "base_uri": "https://localhost:8080/"
        },
        "id": "oSkuVr44cmVl",
        "outputId": "40d657c8-948d-4502-f40b-3988d9c9273f"
      },
      "execution_count": 10,
      "outputs": [
        {
          "output_type": "stream",
          "name": "stdout",
          "text": [
            "['pants', 'shorts', 'sweatpants', 'jeans', 'skirts', 'legging']\n",
            "6\n"
          ]
        }
      ]
    },
    {
      "cell_type": "code",
      "source": [
        "for i in range(6):\n",
        "  bottom_folder_path='/content/bottom/'+bottom_folder[i]\n",
        "  bottom_img_folder=os.listdir(bottom_folder_path)\n",
        "  l=len(bottom_img_folder)\n",
        "  for j in range(l):\n",
        "    img_path=bottom_folder_path+'/'+bottom_img_folder[j]\n",
        "    img_pillow=Image.open(img_path)\n",
        "    img_color=img_pillow.convert('RGB')\n",
        "    img_resize=img_color.resize((64,64))\n",
        "    img_arr=np.array(img_resize)\n",
        "    data.append([img_arr,bottom_folder[i]])"
      ],
      "metadata": {
        "id": "WnycFcJPcupT"
      },
      "execution_count": 11,
      "outputs": []
    },
    {
      "cell_type": "code",
      "source": [
        "dress_folder=os.listdir('/content/dress')\n",
        "print(dress_folder)\n",
        "print(len(dress_folder))"
      ],
      "metadata": {
        "colab": {
          "base_uri": "https://localhost:8080/"
        },
        "id": "bhQb-WnguKTe",
        "outputId": "450a4db8-511e-45df-a81b-85f8cade4171"
      },
      "execution_count": 12,
      "outputs": [
        {
          "output_type": "stream",
          "name": "stdout",
          "text": [
            "['midi', 'maxi', 'cocktail', 'jumpsuit', 'mini', 'casual']\n",
            "6\n"
          ]
        }
      ]
    },
    {
      "cell_type": "code",
      "source": [
        "for i in range(6):\n",
        "  dress_folder_path='/content/dress/'+dress_folder[i]\n",
        "  dress_img_folder=os.listdir(dress_folder_path)\n",
        "  l=len(dress_img_folder)\n",
        "  for j in range(l):\n",
        "    img_path=dress_folder_path+'/'+dress_img_folder[j]\n",
        "    img_pillow=Image.open(img_path)\n",
        "    img_color=img_pillow.convert('RGB')\n",
        "    img_resize=img_color.resize((64,64))\n",
        "    img_arr=np.array(img_resize)\n",
        "    data.append([img_arr,dress_folder[i]])"
      ],
      "metadata": {
        "id": "BfCvGvOEuo82"
      },
      "execution_count": 13,
      "outputs": []
    },
    {
      "cell_type": "code",
      "source": [
        "outerwear_folder=os.listdir('/content/outerwear')\n",
        "print(outerwear_folder)\n",
        "print(len(outerwear_folder))"
      ],
      "metadata": {
        "colab": {
          "base_uri": "https://localhost:8080/"
        },
        "id": "o2PqvhR7vBrW",
        "outputId": "448ce4ce-7945-4a15-e131-2b6bc5e353eb"
      },
      "execution_count": 14,
      "outputs": [
        {
          "output_type": "stream",
          "name": "stdout",
          "text": [
            "['ponchos', 'coats', 'jackets', 'blazers']\n",
            "4\n"
          ]
        }
      ]
    },
    {
      "cell_type": "code",
      "source": [
        "for i in range(4):\n",
        "  outerwear_folder_path='/content/outerwear/'+outerwear_folder[i]\n",
        "  outerwear_img_folder=os.listdir(outerwear_folder_path)\n",
        "  l=len(outerwear_img_folder)\n",
        "  for j in range(l):\n",
        "    img_path=outerwear_folder_path+'/'+outerwear_img_folder[j]\n",
        "    img_pillow=Image.open(img_path)\n",
        "    img_color=img_pillow.convert('RGB')\n",
        "    img_resize=img_color.resize((64,64))\n",
        "    img_arr=np.array(img_resize)\n",
        "    data.append([img_arr,outerwear_folder[i]])"
      ],
      "metadata": {
        "id": "SspATjeyvOus"
      },
      "execution_count": 15,
      "outputs": []
    },
    {
      "cell_type": "code",
      "source": [
        "shoes_folder=os.listdir('/content/shoes')\n",
        "print(shoes_folder)\n",
        "print(len(shoes_folder))"
      ],
      "metadata": {
        "colab": {
          "base_uri": "https://localhost:8080/"
        },
        "id": "vBXXsG67vf4m",
        "outputId": "bb84ae50-0bea-4c15-b56d-9f252d82b791"
      },
      "execution_count": 16,
      "outputs": [
        {
          "output_type": "stream",
          "name": "stdout",
          "text": [
            "['heels', 'loafers', 'flats', 'sandals', 'wedges', 'sneakers', 'slides', 'boots']\n",
            "8\n"
          ]
        }
      ]
    },
    {
      "cell_type": "code",
      "source": [
        "for i in range(8):\n",
        "  shoes_folder_path='/content/shoes/'+shoes_folder[i]\n",
        "  shoes_img_folder=os.listdir(shoes_folder_path)\n",
        "  l=len(shoes_img_folder)\n",
        "  for j in range(l):\n",
        "    img_path=shoes_folder_path+'/'+shoes_img_folder[j]\n",
        "    img_pillow=Image.open(img_path)\n",
        "    img_color=img_pillow.convert('RGB')\n",
        "    img_resize=img_color.resize((64,64))\n",
        "    img_arr=np.array(img_resize)\n",
        "    data.append([img_arr,shoes_folder[i]])"
      ],
      "metadata": {
        "id": "AXiBsK0rvgBf"
      },
      "execution_count": 17,
      "outputs": []
    },
    {
      "cell_type": "code",
      "source": [
        "swimwear_folder=os.listdir('/content/swimwear')\n",
        "print(swimwear_folder)\n",
        "print(len(swimwear_folder))"
      ],
      "metadata": {
        "colab": {
          "base_uri": "https://localhost:8080/"
        },
        "id": "jUP_w4wMvgEe",
        "outputId": "6cc1ae37-7c9f-4431-f4ef-fbf5a343f43c"
      },
      "execution_count": 18,
      "outputs": [
        {
          "output_type": "stream",
          "name": "stdout",
          "text": [
            "['bottom', 'onepiece', 'top', 'twopiece']\n",
            "4\n"
          ]
        }
      ]
    },
    {
      "cell_type": "code",
      "source": [
        "for i in range(4):\n",
        "  swimwear_folder_path='/content/swimwear/'+swimwear_folder[i]\n",
        "  swimwear_img_folder=os.listdir(swimwear_folder_path)\n",
        "  l=len(swimwear_img_folder)\n",
        "  for j in range(l):\n",
        "    img_path=swimwear_folder_path+'/'+swimwear_img_folder[j]\n",
        "    img_pillow=Image.open(img_path)\n",
        "    img_color=img_pillow.convert('RGB')\n",
        "    img_resize=img_color.resize((64,64))\n",
        "    img_arr=np.array(img_resize)\n",
        "    data.append([img_arr,swimwear_folder[i]])"
      ],
      "metadata": {
        "id": "zFPd4kT0vgIJ"
      },
      "execution_count": 19,
      "outputs": []
    },
    {
      "cell_type": "code",
      "source": [
        "print(len(data))"
      ],
      "metadata": {
        "colab": {
          "base_uri": "https://localhost:8080/"
        },
        "id": "aX1M7WlgvgLW",
        "outputId": "9ea048b3-5bbc-4d89-c23b-56bb939efe8a"
      },
      "execution_count": 20,
      "outputs": [
        {
          "output_type": "stream",
          "name": "stdout",
          "text": [
            "30726\n"
          ]
        }
      ]
    },
    {
      "cell_type": "code",
      "source": [
        "x=[]\n",
        "y=[]\n",
        "for img,label in data:\n",
        "  x.append(img)\n",
        "  y.append(label)"
      ],
      "metadata": {
        "id": "RvpttQmtwxP9"
      },
      "execution_count": 21,
      "outputs": []
    },
    {
      "cell_type": "code",
      "source": [
        "x=np.array(x)\n",
        "y=np.array(y)"
      ],
      "metadata": {
        "id": "E5dpZjzcxD9q"
      },
      "execution_count": 22,
      "outputs": []
    },
    {
      "cell_type": "code",
      "source": [
        "np.unique(y)"
      ],
      "metadata": {
        "colab": {
          "base_uri": "https://localhost:8080/"
        },
        "id": "faOvnLqsxIHy",
        "outputId": "6554c9b7-446b-492b-aaeb-0595631f076a"
      },
      "execution_count": 23,
      "outputs": [
        {
          "output_type": "execute_result",
          "data": {
            "text/plain": [
              "array(['backpacks', 'belts', 'blazers', 'boots', 'bottom', 'caps',\n",
              "       'casual', 'clutch', 'coats', 'cocktail', 'flats', 'gloves',\n",
              "       'hairaccessories', 'handbags', 'hats', 'heels', 'jackets', 'jeans',\n",
              "       'jewelry', 'jumpsuit', 'legging', 'loafers', 'makeup', 'maxi',\n",
              "       'midi', 'mini', 'onepiece', 'pants', 'ponchos', 'sandals',\n",
              "       'satchel', 'scarves', 'shorts', 'skirts', 'slides', 'sneakers',\n",
              "       'sunglasses', 'sweatpants', 'top', 'twopiece', 'watches', 'wedges'],\n",
              "      dtype='<U15')"
            ]
          },
          "metadata": {},
          "execution_count": 23
        }
      ]
    },
    {
      "cell_type": "code",
      "source": [
        "from sklearn.preprocessing import LabelEncoder\n",
        "encoder=LabelEncoder()\n",
        "y=encoder.fit_transform(y)"
      ],
      "metadata": {
        "id": "Ssr0d_c7xMsJ"
      },
      "execution_count": 24,
      "outputs": []
    },
    {
      "cell_type": "code",
      "source": [
        "np.unique(y)"
      ],
      "metadata": {
        "colab": {
          "base_uri": "https://localhost:8080/"
        },
        "id": "895ovKDgx5i_",
        "outputId": "cc5191b7-6949-40f1-9bae-b369d90907f4"
      },
      "execution_count": 25,
      "outputs": [
        {
          "output_type": "execute_result",
          "data": {
            "text/plain": [
              "array([ 0,  1,  2,  3,  4,  5,  6,  7,  8,  9, 10, 11, 12, 13, 14, 15, 16,\n",
              "       17, 18, 19, 20, 21, 22, 23, 24, 25, 26, 27, 28, 29, 30, 31, 32, 33,\n",
              "       34, 35, 36, 37, 38, 39, 40, 41])"
            ]
          },
          "metadata": {},
          "execution_count": 25
        }
      ]
    },
    {
      "cell_type": "code",
      "source": [
        "from sklearn.model_selection import train_test_split\n",
        "x_train,x_test,y_train,y_test=train_test_split(x,y,test_size=0.1,random_state=0)"
      ],
      "metadata": {
        "id": "U3esWfcXx7AR"
      },
      "execution_count": 26,
      "outputs": []
    },
    {
      "cell_type": "code",
      "source": [
        "x_train_scaled=x_train/255"
      ],
      "metadata": {
        "id": "dLPlWeeCyWkB"
      },
      "execution_count": 27,
      "outputs": []
    },
    {
      "cell_type": "code",
      "source": [
        "import tensorflow as tf\n",
        "from tensorflow import keras"
      ],
      "metadata": {
        "id": "ha_Q-ioFycnR"
      },
      "execution_count": 28,
      "outputs": []
    },
    {
      "cell_type": "code",
      "source": [
        "num_of_classes=42\n",
        "model=keras.Sequential()\n",
        "\n",
        "model.add(keras.layers.Conv2D(32,kernel_size=(3,3),activation='relu',input_shape=(64,64,3)))\n",
        "model.add(keras.layers.MaxPooling2D(pool_size=(2,2)))\n",
        "\n",
        "model.add(keras.layers.Conv2D(64,kernel_size=(3,3),activation='relu'))\n",
        "model.add(keras.layers.MaxPooling2D(pool_size=(2,2)))\n",
        "\n",
        "model.add(keras.layers.Flatten())\n",
        "\n",
        "model.add(keras.layers.Dense(128,activation='relu'))\n",
        "model.add(keras.layers.Dropout(0.5))\n",
        "\n",
        "model.add(keras.layers.Dense(64,activation='relu'))\n",
        "model.add(keras.layers.Dropout(0.5))\n",
        "\n",
        "model.add(keras.layers.Dense(num_of_classes,activation='softmax'))"
      ],
      "metadata": {
        "id": "WYAZhNoRyigR"
      },
      "execution_count": 29,
      "outputs": []
    },
    {
      "cell_type": "code",
      "source": [
        "model.compile(optimizer='adam',loss='sparse_categorical_crossentropy',metrics=['accuracy'])"
      ],
      "metadata": {
        "id": "ZCxV4gItyvIo"
      },
      "execution_count": 30,
      "outputs": []
    },
    {
      "cell_type": "code",
      "source": [
        "model.fit(x_train_scaled,y_train,epochs=100,validation_split=0.1)"
      ],
      "metadata": {
        "colab": {
          "base_uri": "https://localhost:8080/"
        },
        "id": "8x3bdu1ny4rR",
        "outputId": "8d6288be-3365-4372-bf67-7d3b61ac42ae"
      },
      "execution_count": 31,
      "outputs": [
        {
          "output_type": "stream",
          "name": "stdout",
          "text": [
            "Epoch 1/100\n",
            "778/778 [==============================] - 13s 9ms/step - loss: 2.8606 - accuracy: 0.2094 - val_loss: 1.7640 - val_accuracy: 0.5322\n",
            "Epoch 2/100\n",
            "778/778 [==============================] - 5s 6ms/step - loss: 2.0355 - accuracy: 0.3925 - val_loss: 1.3787 - val_accuracy: 0.6208\n",
            "Epoch 3/100\n",
            "778/778 [==============================] - 5s 7ms/step - loss: 1.7131 - accuracy: 0.4772 - val_loss: 1.1604 - val_accuracy: 0.6714\n",
            "Epoch 4/100\n",
            "778/778 [==============================] - 5s 6ms/step - loss: 1.5459 - accuracy: 0.5231 - val_loss: 1.0602 - val_accuracy: 0.6985\n",
            "Epoch 5/100\n",
            "778/778 [==============================] - 5s 6ms/step - loss: 1.4042 - accuracy: 0.5654 - val_loss: 1.0028 - val_accuracy: 0.7068\n",
            "Epoch 6/100\n",
            "778/778 [==============================] - 5s 7ms/step - loss: 1.3216 - accuracy: 0.5825 - val_loss: 0.9090 - val_accuracy: 0.7281\n",
            "Epoch 7/100\n",
            "778/778 [==============================] - 5s 6ms/step - loss: 1.2407 - accuracy: 0.6061 - val_loss: 0.8788 - val_accuracy: 0.7419\n",
            "Epoch 8/100\n",
            "778/778 [==============================] - 6s 7ms/step - loss: 1.1714 - accuracy: 0.6303 - val_loss: 0.8744 - val_accuracy: 0.7404\n",
            "Epoch 9/100\n",
            "778/778 [==============================] - 5s 6ms/step - loss: 1.1153 - accuracy: 0.6432 - val_loss: 0.8448 - val_accuracy: 0.7567\n",
            "Epoch 10/100\n",
            "778/778 [==============================] - 5s 6ms/step - loss: 1.0652 - accuracy: 0.6550 - val_loss: 0.8027 - val_accuracy: 0.7610\n",
            "Epoch 11/100\n",
            "778/778 [==============================] - 6s 7ms/step - loss: 1.0227 - accuracy: 0.6666 - val_loss: 0.7981 - val_accuracy: 0.7733\n",
            "Epoch 12/100\n",
            "778/778 [==============================] - 5s 6ms/step - loss: 0.9623 - accuracy: 0.6829 - val_loss: 0.8077 - val_accuracy: 0.7686\n",
            "Epoch 13/100\n",
            "778/778 [==============================] - 5s 7ms/step - loss: 0.9453 - accuracy: 0.6888 - val_loss: 0.7887 - val_accuracy: 0.7701\n",
            "Epoch 14/100\n",
            "778/778 [==============================] - 5s 7ms/step - loss: 0.9036 - accuracy: 0.7005 - val_loss: 0.7743 - val_accuracy: 0.7646\n",
            "Epoch 15/100\n",
            "778/778 [==============================] - 5s 6ms/step - loss: 0.8693 - accuracy: 0.7096 - val_loss: 0.7744 - val_accuracy: 0.7697\n",
            "Epoch 16/100\n",
            "778/778 [==============================] - 6s 7ms/step - loss: 0.8408 - accuracy: 0.7215 - val_loss: 0.7903 - val_accuracy: 0.7780\n",
            "Epoch 17/100\n",
            "778/778 [==============================] - 5s 6ms/step - loss: 0.8241 - accuracy: 0.7269 - val_loss: 0.7822 - val_accuracy: 0.7798\n",
            "Epoch 18/100\n",
            "778/778 [==============================] - 5s 6ms/step - loss: 0.7970 - accuracy: 0.7303 - val_loss: 0.7940 - val_accuracy: 0.7632\n",
            "Epoch 19/100\n",
            "778/778 [==============================] - 6s 7ms/step - loss: 0.7864 - accuracy: 0.7361 - val_loss: 0.7996 - val_accuracy: 0.7845\n",
            "Epoch 20/100\n",
            "778/778 [==============================] - 5s 6ms/step - loss: 0.7666 - accuracy: 0.7411 - val_loss: 0.8358 - val_accuracy: 0.7740\n",
            "Epoch 21/100\n",
            "778/778 [==============================] - 6s 7ms/step - loss: 0.7409 - accuracy: 0.7484 - val_loss: 0.8361 - val_accuracy: 0.7701\n",
            "Epoch 22/100\n",
            "778/778 [==============================] - 5s 6ms/step - loss: 0.7163 - accuracy: 0.7554 - val_loss: 0.8070 - val_accuracy: 0.7798\n",
            "Epoch 23/100\n",
            "778/778 [==============================] - 5s 6ms/step - loss: 0.7116 - accuracy: 0.7597 - val_loss: 0.8218 - val_accuracy: 0.7733\n",
            "Epoch 24/100\n",
            "778/778 [==============================] - 6s 7ms/step - loss: 0.6928 - accuracy: 0.7629 - val_loss: 0.8850 - val_accuracy: 0.7701\n",
            "Epoch 25/100\n",
            "778/778 [==============================] - 5s 6ms/step - loss: 0.6748 - accuracy: 0.7684 - val_loss: 0.8096 - val_accuracy: 0.7791\n",
            "Epoch 26/100\n",
            "778/778 [==============================] - 5s 7ms/step - loss: 0.6655 - accuracy: 0.7713 - val_loss: 0.8455 - val_accuracy: 0.7878\n",
            "Epoch 27/100\n",
            "778/778 [==============================] - 5s 7ms/step - loss: 0.6565 - accuracy: 0.7759 - val_loss: 0.8109 - val_accuracy: 0.7921\n",
            "Epoch 28/100\n",
            "778/778 [==============================] - 5s 6ms/step - loss: 0.6525 - accuracy: 0.7763 - val_loss: 0.8758 - val_accuracy: 0.7563\n",
            "Epoch 29/100\n",
            "778/778 [==============================] - 5s 7ms/step - loss: 0.6422 - accuracy: 0.7840 - val_loss: 0.8817 - val_accuracy: 0.7668\n",
            "Epoch 30/100\n",
            "778/778 [==============================] - 5s 6ms/step - loss: 0.6313 - accuracy: 0.7823 - val_loss: 0.8837 - val_accuracy: 0.7816\n",
            "Epoch 31/100\n",
            "778/778 [==============================] - 5s 6ms/step - loss: 0.6220 - accuracy: 0.7877 - val_loss: 0.8436 - val_accuracy: 0.7892\n",
            "Epoch 32/100\n",
            "778/778 [==============================] - 5s 7ms/step - loss: 0.6081 - accuracy: 0.7908 - val_loss: 0.8515 - val_accuracy: 0.7802\n",
            "Epoch 33/100\n",
            "778/778 [==============================] - 5s 6ms/step - loss: 0.5979 - accuracy: 0.7913 - val_loss: 0.9468 - val_accuracy: 0.7831\n",
            "Epoch 34/100\n",
            "778/778 [==============================] - 5s 7ms/step - loss: 0.6012 - accuracy: 0.7919 - val_loss: 0.9615 - val_accuracy: 0.7737\n",
            "Epoch 35/100\n",
            "778/778 [==============================] - 5s 6ms/step - loss: 0.5872 - accuracy: 0.7945 - val_loss: 0.8774 - val_accuracy: 0.7874\n",
            "Epoch 36/100\n",
            "778/778 [==============================] - 5s 6ms/step - loss: 0.5916 - accuracy: 0.7978 - val_loss: 0.9796 - val_accuracy: 0.7867\n",
            "Epoch 37/100\n",
            "778/778 [==============================] - 5s 7ms/step - loss: 0.5649 - accuracy: 0.8032 - val_loss: 0.9510 - val_accuracy: 0.7939\n",
            "Epoch 38/100\n",
            "778/778 [==============================] - 5s 6ms/step - loss: 0.5698 - accuracy: 0.8057 - val_loss: 0.8703 - val_accuracy: 0.7896\n",
            "Epoch 39/100\n",
            "778/778 [==============================] - 5s 7ms/step - loss: 0.5738 - accuracy: 0.8032 - val_loss: 0.9037 - val_accuracy: 0.7787\n",
            "Epoch 40/100\n",
            "778/778 [==============================] - 5s 7ms/step - loss: 0.5614 - accuracy: 0.8072 - val_loss: 0.9399 - val_accuracy: 0.7787\n",
            "Epoch 41/100\n",
            "778/778 [==============================] - 5s 6ms/step - loss: 0.5459 - accuracy: 0.8102 - val_loss: 0.9552 - val_accuracy: 0.7777\n",
            "Epoch 42/100\n",
            "778/778 [==============================] - 6s 7ms/step - loss: 0.5554 - accuracy: 0.8072 - val_loss: 0.9393 - val_accuracy: 0.7899\n",
            "Epoch 43/100\n",
            "778/778 [==============================] - 5s 6ms/step - loss: 0.5447 - accuracy: 0.8137 - val_loss: 0.9341 - val_accuracy: 0.7842\n",
            "Epoch 44/100\n",
            "778/778 [==============================] - 5s 6ms/step - loss: 0.5417 - accuracy: 0.8135 - val_loss: 0.9456 - val_accuracy: 0.7816\n",
            "Epoch 45/100\n",
            "778/778 [==============================] - 5s 7ms/step - loss: 0.5327 - accuracy: 0.8182 - val_loss: 0.9574 - val_accuracy: 0.7693\n",
            "Epoch 46/100\n",
            "778/778 [==============================] - 5s 6ms/step - loss: 0.5343 - accuracy: 0.8155 - val_loss: 0.9306 - val_accuracy: 0.7874\n",
            "Epoch 47/100\n",
            "778/778 [==============================] - 5s 7ms/step - loss: 0.5136 - accuracy: 0.8195 - val_loss: 0.9702 - val_accuracy: 0.7777\n",
            "Epoch 48/100\n",
            "778/778 [==============================] - 5s 6ms/step - loss: 0.5126 - accuracy: 0.8211 - val_loss: 0.9972 - val_accuracy: 0.7874\n",
            "Epoch 49/100\n",
            "778/778 [==============================] - 5s 6ms/step - loss: 0.5159 - accuracy: 0.8219 - val_loss: 0.9866 - val_accuracy: 0.7831\n",
            "Epoch 50/100\n",
            "778/778 [==============================] - 5s 7ms/step - loss: 0.5091 - accuracy: 0.8236 - val_loss: 1.0125 - val_accuracy: 0.7881\n",
            "Epoch 51/100\n",
            "778/778 [==============================] - 5s 6ms/step - loss: 0.5090 - accuracy: 0.8228 - val_loss: 1.1028 - val_accuracy: 0.7889\n",
            "Epoch 52/100\n",
            "778/778 [==============================] - 5s 7ms/step - loss: 0.5085 - accuracy: 0.8253 - val_loss: 1.0480 - val_accuracy: 0.7798\n",
            "Epoch 53/100\n",
            "778/778 [==============================] - 5s 7ms/step - loss: 0.5074 - accuracy: 0.8262 - val_loss: 1.0316 - val_accuracy: 0.7820\n",
            "Epoch 54/100\n",
            "778/778 [==============================] - 5s 6ms/step - loss: 0.4872 - accuracy: 0.8295 - val_loss: 1.0357 - val_accuracy: 0.7918\n",
            "Epoch 55/100\n",
            "778/778 [==============================] - 5s 7ms/step - loss: 0.4931 - accuracy: 0.8279 - val_loss: 1.0153 - val_accuracy: 0.7834\n",
            "Epoch 56/100\n",
            "778/778 [==============================] - 5s 6ms/step - loss: 0.4902 - accuracy: 0.8283 - val_loss: 1.0916 - val_accuracy: 0.7849\n",
            "Epoch 57/100\n",
            "778/778 [==============================] - 5s 6ms/step - loss: 0.4895 - accuracy: 0.8334 - val_loss: 1.1280 - val_accuracy: 0.7730\n",
            "Epoch 58/100\n",
            "778/778 [==============================] - 5s 7ms/step - loss: 0.4766 - accuracy: 0.8324 - val_loss: 1.1029 - val_accuracy: 0.7726\n",
            "Epoch 59/100\n",
            "778/778 [==============================] - 5s 6ms/step - loss: 0.4867 - accuracy: 0.8323 - val_loss: 1.1093 - val_accuracy: 0.7831\n",
            "Epoch 60/100\n",
            "778/778 [==============================] - 6s 7ms/step - loss: 0.4704 - accuracy: 0.8373 - val_loss: 1.0822 - val_accuracy: 0.7805\n",
            "Epoch 61/100\n",
            "778/778 [==============================] - 5s 6ms/step - loss: 0.4667 - accuracy: 0.8364 - val_loss: 1.0474 - val_accuracy: 0.7730\n",
            "Epoch 62/100\n",
            "778/778 [==============================] - 5s 6ms/step - loss: 0.4775 - accuracy: 0.8336 - val_loss: 1.1498 - val_accuracy: 0.7842\n",
            "Epoch 63/100\n",
            "778/778 [==============================] - 5s 7ms/step - loss: 0.4809 - accuracy: 0.8349 - val_loss: 1.0462 - val_accuracy: 0.7824\n",
            "Epoch 64/100\n",
            "778/778 [==============================] - 5s 6ms/step - loss: 0.4671 - accuracy: 0.8386 - val_loss: 1.1662 - val_accuracy: 0.7751\n",
            "Epoch 65/100\n",
            "778/778 [==============================] - 6s 7ms/step - loss: 0.4648 - accuracy: 0.8407 - val_loss: 1.1154 - val_accuracy: 0.7809\n",
            "Epoch 66/100\n",
            "778/778 [==============================] - 5s 6ms/step - loss: 0.4669 - accuracy: 0.8372 - val_loss: 1.1488 - val_accuracy: 0.7827\n",
            "Epoch 67/100\n",
            "778/778 [==============================] - 5s 6ms/step - loss: 0.4676 - accuracy: 0.8398 - val_loss: 1.1784 - val_accuracy: 0.7856\n",
            "Epoch 68/100\n",
            "778/778 [==============================] - 5s 7ms/step - loss: 0.4700 - accuracy: 0.8399 - val_loss: 1.1604 - val_accuracy: 0.7809\n",
            "Epoch 69/100\n",
            "778/778 [==============================] - 5s 6ms/step - loss: 0.4563 - accuracy: 0.8408 - val_loss: 1.2439 - val_accuracy: 0.7824\n",
            "Epoch 70/100\n",
            "778/778 [==============================] - 5s 6ms/step - loss: 0.4604 - accuracy: 0.8426 - val_loss: 1.1236 - val_accuracy: 0.7820\n",
            "Epoch 71/100\n",
            "778/778 [==============================] - 5s 7ms/step - loss: 0.4449 - accuracy: 0.8460 - val_loss: 1.1773 - val_accuracy: 0.7805\n",
            "Epoch 72/100\n",
            "778/778 [==============================] - 5s 6ms/step - loss: 0.4497 - accuracy: 0.8455 - val_loss: 1.2654 - val_accuracy: 0.7791\n",
            "Epoch 73/100\n",
            "778/778 [==============================] - 6s 7ms/step - loss: 0.4454 - accuracy: 0.8437 - val_loss: 1.0888 - val_accuracy: 0.7711\n",
            "Epoch 74/100\n",
            "778/778 [==============================] - 5s 6ms/step - loss: 0.4547 - accuracy: 0.8447 - val_loss: 1.1672 - val_accuracy: 0.7845\n",
            "Epoch 75/100\n",
            "778/778 [==============================] - 5s 6ms/step - loss: 0.4433 - accuracy: 0.8509 - val_loss: 1.1570 - val_accuracy: 0.7751\n",
            "Epoch 76/100\n",
            "778/778 [==============================] - 5s 7ms/step - loss: 0.4353 - accuracy: 0.8489 - val_loss: 1.2311 - val_accuracy: 0.7755\n",
            "Epoch 77/100\n",
            "778/778 [==============================] - 5s 6ms/step - loss: 0.4381 - accuracy: 0.8507 - val_loss: 1.1734 - val_accuracy: 0.7758\n",
            "Epoch 78/100\n",
            "778/778 [==============================] - 5s 7ms/step - loss: 0.4311 - accuracy: 0.8512 - val_loss: 1.2121 - val_accuracy: 0.7777\n",
            "Epoch 79/100\n",
            "778/778 [==============================] - 5s 6ms/step - loss: 0.4302 - accuracy: 0.8514 - val_loss: 1.0785 - val_accuracy: 0.7798\n",
            "Epoch 80/100\n",
            "778/778 [==============================] - 5s 6ms/step - loss: 0.4448 - accuracy: 0.8494 - val_loss: 1.1428 - val_accuracy: 0.7787\n",
            "Epoch 81/100\n",
            "778/778 [==============================] - 5s 7ms/step - loss: 0.4391 - accuracy: 0.8528 - val_loss: 1.1967 - val_accuracy: 0.7758\n",
            "Epoch 82/100\n",
            "778/778 [==============================] - 5s 6ms/step - loss: 0.4325 - accuracy: 0.8484 - val_loss: 1.2778 - val_accuracy: 0.7813\n",
            "Epoch 83/100\n",
            "778/778 [==============================] - 5s 6ms/step - loss: 0.4339 - accuracy: 0.8506 - val_loss: 1.2081 - val_accuracy: 0.7863\n",
            "Epoch 84/100\n",
            "778/778 [==============================] - 5s 7ms/step - loss: 0.4221 - accuracy: 0.8542 - val_loss: 1.2515 - val_accuracy: 0.7813\n",
            "Epoch 85/100\n",
            "778/778 [==============================] - 5s 6ms/step - loss: 0.4260 - accuracy: 0.8517 - val_loss: 1.1446 - val_accuracy: 0.7769\n",
            "Epoch 86/100\n",
            "778/778 [==============================] - 6s 7ms/step - loss: 0.4296 - accuracy: 0.8528 - val_loss: 1.1920 - val_accuracy: 0.7795\n",
            "Epoch 87/100\n",
            "778/778 [==============================] - 5s 6ms/step - loss: 0.4264 - accuracy: 0.8570 - val_loss: 1.3244 - val_accuracy: 0.7889\n",
            "Epoch 88/100\n",
            "778/778 [==============================] - 5s 6ms/step - loss: 0.4220 - accuracy: 0.8540 - val_loss: 1.2902 - val_accuracy: 0.7845\n",
            "Epoch 89/100\n",
            "778/778 [==============================] - 6s 7ms/step - loss: 0.4174 - accuracy: 0.8552 - val_loss: 1.3129 - val_accuracy: 0.7831\n",
            "Epoch 90/100\n",
            "778/778 [==============================] - 5s 6ms/step - loss: 0.4246 - accuracy: 0.8576 - val_loss: 1.4137 - val_accuracy: 0.7802\n",
            "Epoch 91/100\n",
            "778/778 [==============================] - 5s 7ms/step - loss: 0.4297 - accuracy: 0.8507 - val_loss: 1.2482 - val_accuracy: 0.7744\n",
            "Epoch 92/100\n",
            "778/778 [==============================] - 5s 6ms/step - loss: 0.4141 - accuracy: 0.8584 - val_loss: 1.4702 - val_accuracy: 0.7730\n",
            "Epoch 93/100\n",
            "778/778 [==============================] - 5s 6ms/step - loss: 0.4266 - accuracy: 0.8559 - val_loss: 1.3500 - val_accuracy: 0.7791\n",
            "Epoch 94/100\n",
            "778/778 [==============================] - 5s 7ms/step - loss: 0.4107 - accuracy: 0.8596 - val_loss: 1.2991 - val_accuracy: 0.7683\n",
            "Epoch 95/100\n",
            "778/778 [==============================] - 5s 6ms/step - loss: 0.4107 - accuracy: 0.8578 - val_loss: 1.4939 - val_accuracy: 0.7852\n",
            "Epoch 96/100\n",
            "778/778 [==============================] - 5s 6ms/step - loss: 0.4185 - accuracy: 0.8578 - val_loss: 1.4533 - val_accuracy: 0.7809\n",
            "Epoch 97/100\n",
            "778/778 [==============================] - 5s 7ms/step - loss: 0.4053 - accuracy: 0.8622 - val_loss: 1.3048 - val_accuracy: 0.7809\n",
            "Epoch 98/100\n",
            "778/778 [==============================] - 5s 6ms/step - loss: 0.4172 - accuracy: 0.8552 - val_loss: 1.2971 - val_accuracy: 0.7816\n",
            "Epoch 99/100\n",
            "778/778 [==============================] - 5s 7ms/step - loss: 0.4089 - accuracy: 0.8599 - val_loss: 1.2722 - val_accuracy: 0.7831\n",
            "Epoch 100/100\n",
            "778/778 [==============================] - 5s 6ms/step - loss: 0.4078 - accuracy: 0.8618 - val_loss: 1.3883 - val_accuracy: 0.7784\n"
          ]
        },
        {
          "output_type": "execute_result",
          "data": {
            "text/plain": [
              "<keras.src.callbacks.History at 0x7af28cbe3b50>"
            ]
          },
          "metadata": {},
          "execution_count": 31
        }
      ]
    },
    {
      "cell_type": "code",
      "source": [
        "input_img_path='/content/swimwear/twopiece/dresslily_2234.jpg'\n",
        "img_pillow=Image.open(input_img_path)\n",
        "img_color=img_pillow.convert('RGB')\n",
        "img_resize=img_color.resize((64,64))\n",
        "img_arr=np.array(img_resize)\n",
        "img_scaled=img_arr/255\n",
        "img_reshape=np.reshape(img_scaled,[1,64,64,3])\n",
        "prediction=model.predict(img_reshape)\n",
        "print(prediction)\n",
        "output=np.argmax(prediction)\n",
        "print(output)\n",
        "if(output==0):\n",
        "  print('The Item is backpacks')\n",
        "elif(output==1):\n",
        "  print('The Item is belts')\n",
        "elif(output==2):\n",
        "  print('The Item is blazers')\n",
        "elif(output==3):\n",
        "  print('The Item is boots')\n",
        "elif(output==4):\n",
        "  print('The Item is bottom')\n",
        "elif(output==5):\n",
        "  print('The Item is caps')\n",
        "elif(output==6):\n",
        "  print('The Item is causal')\n",
        "elif(output==7):\n",
        "  print('The Item is clutch')\n",
        "elif(output==8):\n",
        "  print('The Item is coats')\n",
        "elif(output==9):\n",
        "  print('The Item is cocktail')\n",
        "elif(output==10):\n",
        "  print('The Item is flats')\n",
        "elif(output==11):\n",
        "  print('The Item is gloves')\n",
        "elif(output==12):\n",
        "  print('The Item is hairaccessories')\n",
        "elif(output==13):\n",
        "  print('The Item is handbags')\n",
        "elif(output==14):\n",
        "  print('The Item is hats')\n",
        "elif(output==15):\n",
        "  print('The Item is heels')\n",
        "elif(output==16):\n",
        "  print('The Item is jackets')\n",
        "elif(output==17):\n",
        "  print('The Item is jeans')\n",
        "elif(output==18):\n",
        "  print('The Item is jewelry')\n",
        "elif(output==19):\n",
        "  print('The Item is jumpsuit')\n",
        "elif(output==20):\n",
        "  print('The Item is legging')\n",
        "elif(output==21):\n",
        "  print('The Item is loafers')\n",
        "elif(output==22):\n",
        "  print('The Item is makeup')\n",
        "elif(output==23):\n",
        "  print('The Item is maxi')\n",
        "elif(output==24):\n",
        "  print('The Item is midi')\n",
        "elif(output==25):\n",
        "  print('The Item is mini')\n",
        "elif(output==26):\n",
        "  print('The Item is onepiece')\n",
        "elif(output==27):\n",
        "  print('The Item is pants')\n",
        "elif(output==28):\n",
        "  print('The Item is ponchos')\n",
        "elif(output==29):\n",
        "  print('The Item is sandals')\n",
        "elif(output==30):\n",
        "  print('The Item is satchel')\n",
        "elif(output==31):\n",
        "  print('The Item is scarves')\n",
        "elif(output==32):\n",
        "  print('The Item is shorts')\n",
        "elif(output==33):\n",
        "  print('The Item is skirts')\n",
        "elif(output==34):\n",
        "  print('The Item is slides')\n",
        "elif(output==35):\n",
        "  print('The Item is sneakers')\n",
        "elif(output==36):\n",
        "  print('The Item is sunglasses')\n",
        "elif(output==37):\n",
        "  print('The Item is sweatpants')\n",
        "elif(output==38):\n",
        "  print('The Item is top')\n",
        "elif(output==39):\n",
        "  print('The Item is twopiece')\n",
        "elif(output==40):\n",
        "  print('The Item is watches')\n",
        "elif(output==41):\n",
        "  print('The Item is wedges')"
      ],
      "metadata": {
        "colab": {
          "base_uri": "https://localhost:8080/"
        },
        "id": "zazcWPqWzB4A",
        "outputId": "9b50d7c2-ab46-4311-ce5d-6ee4d5dfe019"
      },
      "execution_count": 58,
      "outputs": [
        {
          "output_type": "stream",
          "name": "stdout",
          "text": [
            "1/1 [==============================] - 0s 20ms/step\n",
            "[[0.0000000e+00 6.4080767e-30 0.0000000e+00 0.0000000e+00 7.2776471e-27\n",
            "  0.0000000e+00 0.0000000e+00 0.0000000e+00 0.0000000e+00 0.0000000e+00\n",
            "  5.4941096e-18 0.0000000e+00 3.1551534e-36 0.0000000e+00 0.0000000e+00\n",
            "  2.4360128e-36 0.0000000e+00 0.0000000e+00 3.5335200e-23 0.0000000e+00\n",
            "  0.0000000e+00 1.5399732e-33 0.0000000e+00 0.0000000e+00 0.0000000e+00\n",
            "  0.0000000e+00 5.0498705e-10 0.0000000e+00 0.0000000e+00 2.6130493e-30\n",
            "  0.0000000e+00 0.0000000e+00 0.0000000e+00 0.0000000e+00 9.3577508e-32\n",
            "  0.0000000e+00 0.0000000e+00 0.0000000e+00 2.3819691e-30 1.0000000e+00\n",
            "  1.7587675e-30 0.0000000e+00]]\n",
            "39\n",
            "The Item is twopiece\n"
          ]
        }
      ]
    }
  ],
  "metadata": {
    "accelerator": "GPU",
    "colab": {
      "provenance": []
    },
    "kernelspec": {
      "display_name": "Python 3",
      "name": "python3"
    },
    "language_info": {
      "name": "python"
    }
  },
  "nbformat": 4,
  "nbformat_minor": 0
}